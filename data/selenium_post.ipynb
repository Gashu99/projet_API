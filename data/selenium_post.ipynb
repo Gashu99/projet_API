{
 "cells": [
  {
   "cell_type": "code",
   "execution_count": null,
   "id": "3c88a0c2",
   "metadata": {},
   "outputs": [],
   "source": [
    "from selenium import webdriver\n",
    "from selenium.webdriver.common.by import By  # Import the By class for locating elements\n",
    "import json\n",
    "import pyshorteners\n",
    "\n",
    "type_tiny = pyshorteners.Shortener()\n",
    "\n",
    "def post_data_to_api(data):\n",
    "    # Initialize the Selenium webdriver (you can choose the appropriate browser driver)\n",
    "    driver = webdriver.Chrome()\n",
    "\n",
    "    # Navigate to the web page where you need to post the data\n",
    "    api_url = \"http://127.0.0.1:8080/index.html\"  # Replace with the actual API endpoint URL\n",
    "    driver.get(api_url)\n",
    "\n",
    "    # Loop through the data and insert it into the form fields\n",
    "    for item in data:\n",
    "        # Extract data from the item dictionary\n",
    "        name = item.get(\"title\")\n",
    "        location = item.get(\"location\")\n",
    "        price = item.get(\"price\")\n",
    "        image_url  = type_tiny.tinyurl.short(item.get(\"image\"))\n",
    "\n",
    "        # Locate the form fields and insert the data\n",
    "        name_element = driver.find_element(By.ID, \"new-name\")  # Corrected syntax here\n",
    "        name_element.clear()  # Clear the field before inserting new data\n",
    "        name_element.send_keys(name)\n",
    "\n",
    "        location_element = driver.find_element(By.ID, \"new-location\")  # Corrected syntax here\n",
    "        location_element.clear()\n",
    "        location_element.send_keys(location)\n",
    "\n",
    "        price_element = driver.find_element(By.ID, \"new-price\")  # Corrected syntax here\n",
    "        price_element.clear()\n",
    "        price_element.send_keys(price)\n",
    "\n",
    "        image_url_element = driver.find_element(By.ID, \"new-image-url\")  # Corrected syntax here\n",
    "        image_url_element.clear()\n",
    "        image_url_element.send_keys(image_url)\n",
    "\n",
    "        # Submit the form to send the data to the API\n",
    "        submit_button = driver.find_element(By.XPATH, \"//form[@id='new-record-form']//button[@type='submit']\")  # Corrected syntax here\n",
    "        submit_button.click()\n",
    "\n",
    "    # Close the browser after processing all data\n",
    "    driver.quit()\n",
    "\n",
    "# Load the JSON data from the file\n",
    "json_file_path = \"/home/nyto/Documents/scraping/projet_API/data/dataem3.json\"  # Replace with the actual JSON file path\n",
    "with open(json_file_path, 'r') as file:\n",
    "    data = json.load(file)\n",
    "\n",
    "# Call the function to post data to the API\n",
    "post_data_to_api(data)\n"
   ]
  }
 ],
 "metadata": {
  "kernelspec": {
   "display_name": "Python 3 (ipykernel)",
   "language": "python",
   "name": "python3"
  },
  "language_info": {
   "codemirror_mode": {
    "name": "ipython",
    "version": 3
   },
   "file_extension": ".py",
   "mimetype": "text/x-python",
   "name": "python",
   "nbconvert_exporter": "python",
   "pygments_lexer": "ipython3",
   "version": "3.10.4"
  }
 },
 "nbformat": 4,
 "nbformat_minor": 5
}
