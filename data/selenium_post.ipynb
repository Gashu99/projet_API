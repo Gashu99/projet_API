{
 "cells": [
  {
   "cell_type": "code",
   "execution_count": 1,
   "id": "3c88a0c2",
   "metadata": {},
   "outputs": [
    {
     "ename": "StaleElementReferenceException",
     "evalue": "Message: stale element reference: stale element not found\n  (Session info: chrome=114.0.5735.198); For documentation on this error, please visit: https://www.selenium.dev/documentation/webdriver/troubleshooting/errors#stale-element-reference-exception\nStacktrace:\n#0 0x5587f5da04e3 <unknown>\n#1 0x5587f5acfc76 <unknown>\n#2 0x5587f5adca71 <unknown>\n#3 0x5587f5ad46f3 <unknown>\n#4 0x5587f5ad31d6 <unknown>\n#5 0x5587f5ad597e <unknown>\n#6 0x5587f5ad5a4c <unknown>\n#7 0x5587f5b0c7c9 <unknown>\n#8 0x5587f5b0c855 <unknown>\n#9 0x5587f5b04744 <unknown>\n#10 0x5587f5b2b012 <unknown>\n#11 0x5587f5b01b03 <unknown>\n#12 0x5587f5b2b1de <unknown>\n#13 0x5587f5b4330e <unknown>\n#14 0x5587f5b2ade3 <unknown>\n#15 0x5587f5b002dd <unknown>\n#16 0x5587f5b0134e <unknown>\n#17 0x5587f5d603e4 <unknown>\n#18 0x5587f5d643d7 <unknown>\n#19 0x5587f5d6eb20 <unknown>\n#20 0x5587f5d65023 <unknown>\n#21 0x5587f5d331aa <unknown>\n#22 0x5587f5d896b8 <unknown>\n#23 0x5587f5d89847 <unknown>\n#24 0x5587f5d99243 <unknown>\n#25 0x7f2eb4294b43 <unknown>\n",
     "output_type": "error",
     "traceback": [
      "\u001b[0;31m---------------------------------------------------------------------------\u001b[0m",
      "\u001b[0;31mStaleElementReferenceException\u001b[0m            Traceback (most recent call last)",
      "Cell \u001b[0;32mIn[1], line 51\u001b[0m\n\u001b[1;32m     48\u001b[0m     data \u001b[38;5;241m=\u001b[39m json\u001b[38;5;241m.\u001b[39mload(file)\n\u001b[1;32m     50\u001b[0m \u001b[38;5;66;03m# Call the function to post data to the API\u001b[39;00m\n\u001b[0;32m---> 51\u001b[0m \u001b[43mpost_data_to_api\u001b[49m\u001b[43m(\u001b[49m\u001b[43mdata\u001b[49m\u001b[43m)\u001b[49m\n",
      "Cell \u001b[0;32mIn[1], line 36\u001b[0m, in \u001b[0;36mpost_data_to_api\u001b[0;34m(data)\u001b[0m\n\u001b[1;32m     34\u001b[0m image_url_element \u001b[38;5;241m=\u001b[39m driver\u001b[38;5;241m.\u001b[39mfind_element(By\u001b[38;5;241m.\u001b[39mID, \u001b[38;5;124m\"\u001b[39m\u001b[38;5;124mnew-image-url\u001b[39m\u001b[38;5;124m\"\u001b[39m)  \u001b[38;5;66;03m# Corrected syntax here\u001b[39;00m\n\u001b[1;32m     35\u001b[0m image_url_element\u001b[38;5;241m.\u001b[39mclear()\n\u001b[0;32m---> 36\u001b[0m \u001b[43mimage_url_element\u001b[49m\u001b[38;5;241;43m.\u001b[39;49m\u001b[43msend_keys\u001b[49m\u001b[43m(\u001b[49m\u001b[43mimage_url\u001b[49m\u001b[43m)\u001b[49m\n\u001b[1;32m     38\u001b[0m \u001b[38;5;66;03m# Submit the form to send the data to the API\u001b[39;00m\n\u001b[1;32m     39\u001b[0m submit_button \u001b[38;5;241m=\u001b[39m driver\u001b[38;5;241m.\u001b[39mfind_element(By\u001b[38;5;241m.\u001b[39mXPATH, \u001b[38;5;124m\"\u001b[39m\u001b[38;5;124m//form[@id=\u001b[39m\u001b[38;5;124m'\u001b[39m\u001b[38;5;124mnew-record-form\u001b[39m\u001b[38;5;124m'\u001b[39m\u001b[38;5;124m]//button[@type=\u001b[39m\u001b[38;5;124m'\u001b[39m\u001b[38;5;124msubmit\u001b[39m\u001b[38;5;124m'\u001b[39m\u001b[38;5;124m]\u001b[39m\u001b[38;5;124m\"\u001b[39m)  \u001b[38;5;66;03m# Corrected syntax here\u001b[39;00m\n",
      "File \u001b[0;32m~/.local/lib/python3.10/site-packages/selenium/webdriver/remote/webelement.py:231\u001b[0m, in \u001b[0;36mWebElement.send_keys\u001b[0;34m(self, *value)\u001b[0m\n\u001b[1;32m    228\u001b[0m             remote_files\u001b[38;5;241m.\u001b[39mappend(\u001b[38;5;28mself\u001b[39m\u001b[38;5;241m.\u001b[39m_upload(file))\n\u001b[1;32m    229\u001b[0m         value \u001b[38;5;241m=\u001b[39m \u001b[38;5;124m\"\u001b[39m\u001b[38;5;130;01m\\n\u001b[39;00m\u001b[38;5;124m\"\u001b[39m\u001b[38;5;241m.\u001b[39mjoin(remote_files)\n\u001b[0;32m--> 231\u001b[0m \u001b[38;5;28;43mself\u001b[39;49m\u001b[38;5;241;43m.\u001b[39;49m\u001b[43m_execute\u001b[49m\u001b[43m(\u001b[49m\n\u001b[1;32m    232\u001b[0m \u001b[43m    \u001b[49m\u001b[43mCommand\u001b[49m\u001b[38;5;241;43m.\u001b[39;49m\u001b[43mSEND_KEYS_TO_ELEMENT\u001b[49m\u001b[43m,\u001b[49m\u001b[43m \u001b[49m\u001b[43m{\u001b[49m\u001b[38;5;124;43m\"\u001b[39;49m\u001b[38;5;124;43mtext\u001b[39;49m\u001b[38;5;124;43m\"\u001b[39;49m\u001b[43m:\u001b[49m\u001b[43m \u001b[49m\u001b[38;5;124;43m\"\u001b[39;49m\u001b[38;5;124;43m\"\u001b[39;49m\u001b[38;5;241;43m.\u001b[39;49m\u001b[43mjoin\u001b[49m\u001b[43m(\u001b[49m\u001b[43mkeys_to_typing\u001b[49m\u001b[43m(\u001b[49m\u001b[43mvalue\u001b[49m\u001b[43m)\u001b[49m\u001b[43m)\u001b[49m\u001b[43m,\u001b[49m\u001b[43m \u001b[49m\u001b[38;5;124;43m\"\u001b[39;49m\u001b[38;5;124;43mvalue\u001b[39;49m\u001b[38;5;124;43m\"\u001b[39;49m\u001b[43m:\u001b[49m\u001b[43m \u001b[49m\u001b[43mkeys_to_typing\u001b[49m\u001b[43m(\u001b[49m\u001b[43mvalue\u001b[49m\u001b[43m)\u001b[49m\u001b[43m}\u001b[49m\n\u001b[1;32m    233\u001b[0m \u001b[43m\u001b[49m\u001b[43m)\u001b[49m\n",
      "File \u001b[0;32m~/.local/lib/python3.10/site-packages/selenium/webdriver/remote/webelement.py:395\u001b[0m, in \u001b[0;36mWebElement._execute\u001b[0;34m(self, command, params)\u001b[0m\n\u001b[1;32m    393\u001b[0m     params \u001b[38;5;241m=\u001b[39m {}\n\u001b[1;32m    394\u001b[0m params[\u001b[38;5;124m\"\u001b[39m\u001b[38;5;124mid\u001b[39m\u001b[38;5;124m\"\u001b[39m] \u001b[38;5;241m=\u001b[39m \u001b[38;5;28mself\u001b[39m\u001b[38;5;241m.\u001b[39m_id\n\u001b[0;32m--> 395\u001b[0m \u001b[38;5;28;01mreturn\u001b[39;00m \u001b[38;5;28;43mself\u001b[39;49m\u001b[38;5;241;43m.\u001b[39;49m\u001b[43m_parent\u001b[49m\u001b[38;5;241;43m.\u001b[39;49m\u001b[43mexecute\u001b[49m\u001b[43m(\u001b[49m\u001b[43mcommand\u001b[49m\u001b[43m,\u001b[49m\u001b[43m \u001b[49m\u001b[43mparams\u001b[49m\u001b[43m)\u001b[49m\n",
      "File \u001b[0;32m~/.local/lib/python3.10/site-packages/selenium/webdriver/remote/webdriver.py:346\u001b[0m, in \u001b[0;36mWebDriver.execute\u001b[0;34m(self, driver_command, params)\u001b[0m\n\u001b[1;32m    344\u001b[0m response \u001b[38;5;241m=\u001b[39m \u001b[38;5;28mself\u001b[39m\u001b[38;5;241m.\u001b[39mcommand_executor\u001b[38;5;241m.\u001b[39mexecute(driver_command, params)\n\u001b[1;32m    345\u001b[0m \u001b[38;5;28;01mif\u001b[39;00m response:\n\u001b[0;32m--> 346\u001b[0m     \u001b[38;5;28;43mself\u001b[39;49m\u001b[38;5;241;43m.\u001b[39;49m\u001b[43merror_handler\u001b[49m\u001b[38;5;241;43m.\u001b[39;49m\u001b[43mcheck_response\u001b[49m\u001b[43m(\u001b[49m\u001b[43mresponse\u001b[49m\u001b[43m)\u001b[49m\n\u001b[1;32m    347\u001b[0m     response[\u001b[38;5;124m\"\u001b[39m\u001b[38;5;124mvalue\u001b[39m\u001b[38;5;124m\"\u001b[39m] \u001b[38;5;241m=\u001b[39m \u001b[38;5;28mself\u001b[39m\u001b[38;5;241m.\u001b[39m_unwrap_value(response\u001b[38;5;241m.\u001b[39mget(\u001b[38;5;124m\"\u001b[39m\u001b[38;5;124mvalue\u001b[39m\u001b[38;5;124m\"\u001b[39m, \u001b[38;5;28;01mNone\u001b[39;00m))\n\u001b[1;32m    348\u001b[0m     \u001b[38;5;28;01mreturn\u001b[39;00m response\n",
      "File \u001b[0;32m~/.local/lib/python3.10/site-packages/selenium/webdriver/remote/errorhandler.py:245\u001b[0m, in \u001b[0;36mErrorHandler.check_response\u001b[0;34m(self, response)\u001b[0m\n\u001b[1;32m    243\u001b[0m         alert_text \u001b[38;5;241m=\u001b[39m value[\u001b[38;5;124m\"\u001b[39m\u001b[38;5;124malert\u001b[39m\u001b[38;5;124m\"\u001b[39m]\u001b[38;5;241m.\u001b[39mget(\u001b[38;5;124m\"\u001b[39m\u001b[38;5;124mtext\u001b[39m\u001b[38;5;124m\"\u001b[39m)\n\u001b[1;32m    244\u001b[0m     \u001b[38;5;28;01mraise\u001b[39;00m exception_class(message, screen, stacktrace, alert_text)  \u001b[38;5;66;03m# type: ignore[call-arg]  # mypy is not smart enough here\u001b[39;00m\n\u001b[0;32m--> 245\u001b[0m \u001b[38;5;28;01mraise\u001b[39;00m exception_class(message, screen, stacktrace)\n",
      "\u001b[0;31mStaleElementReferenceException\u001b[0m: Message: stale element reference: stale element not found\n  (Session info: chrome=114.0.5735.198); For documentation on this error, please visit: https://www.selenium.dev/documentation/webdriver/troubleshooting/errors#stale-element-reference-exception\nStacktrace:\n#0 0x5587f5da04e3 <unknown>\n#1 0x5587f5acfc76 <unknown>\n#2 0x5587f5adca71 <unknown>\n#3 0x5587f5ad46f3 <unknown>\n#4 0x5587f5ad31d6 <unknown>\n#5 0x5587f5ad597e <unknown>\n#6 0x5587f5ad5a4c <unknown>\n#7 0x5587f5b0c7c9 <unknown>\n#8 0x5587f5b0c855 <unknown>\n#9 0x5587f5b04744 <unknown>\n#10 0x5587f5b2b012 <unknown>\n#11 0x5587f5b01b03 <unknown>\n#12 0x5587f5b2b1de <unknown>\n#13 0x5587f5b4330e <unknown>\n#14 0x5587f5b2ade3 <unknown>\n#15 0x5587f5b002dd <unknown>\n#16 0x5587f5b0134e <unknown>\n#17 0x5587f5d603e4 <unknown>\n#18 0x5587f5d643d7 <unknown>\n#19 0x5587f5d6eb20 <unknown>\n#20 0x5587f5d65023 <unknown>\n#21 0x5587f5d331aa <unknown>\n#22 0x5587f5d896b8 <unknown>\n#23 0x5587f5d89847 <unknown>\n#24 0x5587f5d99243 <unknown>\n#25 0x7f2eb4294b43 <unknown>\n"
     ]
    }
   ],
   "source": [
    "from selenium import webdriver\n",
    "from selenium.webdriver.common.by import By  # Import the By class for locating elements\n",
    "import json\n",
    "\n",
    "def post_data_to_api(data):\n",
    "    # Initialize the Selenium webdriver (you can choose the appropriate browser driver)\n",
    "    driver = webdriver.Chrome()\n",
    "\n",
    "    # Navigate to the web page where you need to post the data\n",
    "    api_url = \"http://127.0.0.1:5500/index.html\"  # Replace with the actual API endpoint URL\n",
    "    driver.get(api_url)\n",
    "\n",
    "    # Loop through the data and insert it into the form fields\n",
    "    for item in data:\n",
    "        # Extract data from the item dictionary\n",
    "        name = item.get(\"title\")\n",
    "        location = item.get(\"location\")\n",
    "        price = item.get(\"price\")\n",
    "        image_url = item.get(\"image\")\n",
    "\n",
    "        # Locate the form fields and insert the data\n",
    "        name_element = driver.find_element(By.ID, \"new-name\")  # Corrected syntax here\n",
    "        name_element.clear()  # Clear the field before inserting new data\n",
    "        name_element.send_keys(name)\n",
    "\n",
    "        location_element = driver.find_element(By.ID, \"new-location\")  # Corrected syntax here\n",
    "        location_element.clear()\n",
    "        location_element.send_keys(location)\n",
    "\n",
    "        price_element = driver.find_element(By.ID, \"new-price\")  # Corrected syntax here\n",
    "        price_element.clear()\n",
    "        price_element.send_keys(price)\n",
    "\n",
    "        image_url_element = driver.find_element(By.ID, \"new-image-url\")  # Corrected syntax here\n",
    "        image_url_element.clear()\n",
    "        image_url_element.send_keys(image_url)\n",
    "\n",
    "        # Submit the form to send the data to the API\n",
    "        submit_button = driver.find_element(By.XPATH, \"//form[@id='new-record-form']//button[@type='submit']\")  # Corrected syntax here\n",
    "        submit_button.click()\n",
    "\n",
    "    # Close the browser after processing all data\n",
    "    driver.quit()\n",
    "\n",
    "# Load the JSON data from the file\n",
    "json_file_path = \"/home/nyto/Documents/scraping/projet_API/data/dataem3.json\"  # Replace with the actual JSON file path\n",
    "with open(json_file_path, 'r') as file:\n",
    "    data = json.load(file)\n",
    "\n",
    "# Call the function to post data to the API\n",
    "post_data_to_api(data)\n"
   ]
  }
 ],
 "metadata": {
  "kernelspec": {
   "display_name": "Python 3 (ipykernel)",
   "language": "python",
   "name": "python3"
  },
  "language_info": {
   "codemirror_mode": {
    "name": "ipython",
    "version": 3
   },
   "file_extension": ".py",
   "mimetype": "text/x-python",
   "name": "python",
   "nbconvert_exporter": "python",
   "pygments_lexer": "ipython3",
   "version": "3.10.4"
  }
 },
 "nbformat": 4,
 "nbformat_minor": 5
}
